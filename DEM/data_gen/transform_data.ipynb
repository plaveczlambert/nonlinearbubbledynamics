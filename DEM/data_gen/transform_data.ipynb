{
 "cells": [
  {
   "cell_type": "markdown",
   "id": "purple-mandate",
   "metadata": {},
   "source": [
    "Generate learning data (Euler truncation errors) from a single trajectory of the bubble equation."
   ]
  },
  {
   "cell_type": "code",
   "execution_count": null,
   "id": "useful-diameter",
   "metadata": {},
   "outputs": [],
   "source": [
    "import numpy as np\n",
    "import os\n",
    "import matplotlib.pyplot as plt\n",
    "import scipy.integrate\n",
    "import h5py"
   ]
  },
  {
   "cell_type": "code",
   "execution_count": null,
   "id": "seeing-removal",
   "metadata": {},
   "outputs": [],
   "source": [
    "path = '../data/bubble_sim_p0.5_f100_Re10_N16_t0.5_25000.txt'"
   ]
  },
  {
   "cell_type": "code",
   "execution_count": null,
   "id": "reduced-poster",
   "metadata": {},
   "outputs": [],
   "source": [
    "data = np.loadtxt(path, dtype=np.float64, delimiter=',')\n",
    "data.shape"
   ]
  },
  {
   "cell_type": "code",
   "execution_count": null,
   "id": "universal-brake",
   "metadata": {},
   "outputs": [],
   "source": [
    "plt.figure(num=\"vis_dat\")\n",
    "plt.subplot(4,1,1)\n",
    "plt.plot(data[:,0], data[:,1])\n",
    "plt.subplot(4,1,2)\n",
    "plt.plot(data[:,0], data[:,2])\n",
    "plt.subplot(4,1,3)\n",
    "plt.plot(data[:,0], data[:,3])\n",
    "plt.subplot(4,1,4)\n",
    "plt.plot(data[:,0], data[:,11])\n",
    "plt.show()"
   ]
  },
  {
   "cell_type": "code",
   "execution_count": null,
   "id": "decent-element",
   "metadata": {},
   "outputs": [],
   "source": [
    "def euler_truncation_error(arr, output_size): \n",
    "    #t0 x1 x2 x3 z1 ... z7 dx1 dx2 dx3 dz1 ... dz7 sin\n",
    "    #0   1  2  3 4       10 11  12  13  14      20  21\n",
    "    dt = arr[1:,0] - arr[:-1,0] #next-prev\n",
    "    X = np.column_stack((arr[1:,0], arr[:-1,:1+output_size], arr[:-1,-1])) #t1 t0 x1(0) x2(0) x3(0) z(0) sin0\n",
    "    dt_m = np.copy(dt)\n",
    "    for n in range(1,output_size):\n",
    "        dt_m = np.column_stack((dt_m,dt))\n",
    "    Y = np.reciprocal(dt_m*dt_m)*(arr[1:,1:output_size+1] - arr[:-1,1:output_size+1] - dt_m*arr[:-1, output_size+1:-1])\n",
    "    return X,Y"
   ]
  },
  {
   "cell_type": "code",
   "execution_count": null,
   "id": "innovative-williams",
   "metadata": {},
   "outputs": [],
   "source": [
    "path_to_hdf = '../data/data0.5.hdf5'"
   ]
  },
  {
   "cell_type": "code",
   "execution_count": null,
   "id": "attempted-france",
   "metadata": {},
   "outputs": [],
   "source": [
    "data = np.loadtxt(path, dtype=np.float64, delimiter=',')\n",
    "arr = np.delete(data, [4, 15], axis=1) #remove boundary\n",
    "print(arr.shape)\n",
    "print(arr[5,:])\n",
    "N_z = int((data.shape[1]-8)/2 - 1)\n",
    "\n",
    "\n",
    "dt = True #whether to use absolute time or time steps\n",
    "l = arr.shape[0]\n",
    "b = 1\n",
    "n = 100\n",
    "sum = 0\n",
    "for i in range(b,n):\n",
    "    sum = sum + l - i\n",
    "\n",
    "print(sum)\n",
    "with h5py.File(path_to_hdf, 'a') as f:\n",
    "    f.create_dataset(\n",
    "        str('bub_X'),\n",
    "        (sum, 5+N_z),\n",
    "        dtype   = np.float64,\n",
    "        compression     = 'gzip',\n",
    "        compression_opts= 9\n",
    "        )\n",
    "    f.create_dataset(\n",
    "        str('bub_Y'),\n",
    "        (sum, 3+N_z),\n",
    "        dtype   = np.float64,\n",
    "        compression     = 'gzip',\n",
    "        compression_opts= 9\n",
    "        )\n",
    "    begin = 0\n",
    "    end = l-1\n",
    "    X = f['bub_X']\n",
    "    Y = f['bub_Y']\n",
    "    x,y = euler_truncation_error(np.copy(arr[:][0::b]),3+N_z)\n",
    "    if dt: \n",
    "        x = np.column_stack((x[:,0] - x[:,1],x[:,2:]))\n",
    "    X[begin:end,:] = x\n",
    "    Y[begin:end,:] = y\n",
    "    for i in range(b+1,n):\n",
    "        if i%50==0:\n",
    "            print(i)\n",
    "        for j in range(i):\n",
    "            x,y = euler_truncation_error(np.copy(arr[:][j::i]), 3+N_z)\n",
    "            if dt: \n",
    "                x = np.column_stack((x[:,0] - x[:,1],x[:,2:]))\n",
    "            begin = end\n",
    "            end = begin+x.shape[0]\n",
    "            X[begin:end,:] = x\n",
    "            Y[begin:end,:] = y\n",
    "        "
   ]
  }
 ],
 "metadata": {
  "kernelspec": {
   "display_name": "Python 3",
   "language": "python",
   "name": "python3"
  },
  "language_info": {
   "codemirror_mode": {
    "name": "ipython",
    "version": 3
   },
   "file_extension": ".py",
   "mimetype": "text/x-python",
   "name": "python",
   "nbconvert_exporter": "python",
   "pygments_lexer": "ipython3",
   "version": "3.9.1"
  }
 },
 "nbformat": 4,
 "nbformat_minor": 5
}
