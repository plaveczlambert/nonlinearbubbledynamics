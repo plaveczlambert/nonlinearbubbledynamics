{
 "cells": [
  {
   "cell_type": "code",
   "execution_count": null,
   "id": "verified-bachelor",
   "metadata": {},
   "outputs": [],
   "source": [
    "%matplotlib notebook\n",
    "import math\n",
    "import numpy as np\n",
    "import matplotlib.pyplot as plt\n",
    "import scipy.integrate\n",
    "import h5py\n",
    "plt.rcParams.update({\n",
    "    \"text.usetex\": True,\n",
    "    \"font.family\": \"sans-serif\",\n",
    "    \"font.sans-serif\": [\"Helvetica\"],\n",
    "    \"font.size\": 12.0})"
   ]
  },
  {
   "cell_type": "code",
   "execution_count": null,
   "id": "official-franchise",
   "metadata": {},
   "outputs": [],
   "source": [
    "dem2 = np.loadtxt('simulations/bub_dem_1e-5.txt')"
   ]
  },
  {
   "cell_type": "code",
   "execution_count": null,
   "id": "illegal-malawi",
   "metadata": {},
   "outputs": [],
   "source": [
    "euler = np.loadtxt('simulations/bub_euler_1e-5.txt')"
   ]
  },
  {
   "cell_type": "code",
   "execution_count": null,
   "id": "common-double",
   "metadata": {},
   "outputs": [],
   "source": [
    "dopri = np.loadtxt('../../data/bubble_sim_p0.5_f100_Re10_N16_t5_x2.txt', delimiter=',')"
   ]
  },
  {
   "cell_type": "code",
   "execution_count": null,
   "id": "important-police",
   "metadata": {},
   "outputs": [],
   "source": [
    "plt.figure(num=\"Comparison\")\n",
    "plt.plot(dopri[:,0], dopri[:,1], color=\"black\", label=\"Dopri\")\n",
    "plt.plot(euler[:,0],euler[:,1], linestyle=\"--\", dashes=(5,5), color=\"magenta\", label=\"Euler\")\n",
    "plt.plot(dem[:,0],dem[:,1], linestyle=\"--\", dashes=(7,7), color=\"aqua\", label=\"DEM (5)\")\n",
    "plt.xlabel('$\\\\tau$')\n",
    "plt.ylabel('$x_1$')\n",
    "plt.xlim((0,5))\n",
    "plt.ylim((0.5, 2))\n",
    "plt.legend()\n",
    "plt.show()"
   ]
  },
  {
   "cell_type": "code",
   "execution_count": null,
   "id": "silent-survey",
   "metadata": {},
   "outputs": [],
   "source": [
    "plt.savefig(\"bub_1e-5.eps\")"
   ]
  }
 ],
 "metadata": {
  "kernelspec": {
   "display_name": "Python 3",
   "language": "python",
   "name": "python3"
  },
  "language_info": {
   "codemirror_mode": {
    "name": "ipython",
    "version": 3
   },
   "file_extension": ".py",
   "mimetype": "text/x-python",
   "name": "python",
   "nbconvert_exporter": "python",
   "pygments_lexer": "ipython3",
   "version": "3.9.1"
  }
 },
 "nbformat": 4,
 "nbformat_minor": 5
}
